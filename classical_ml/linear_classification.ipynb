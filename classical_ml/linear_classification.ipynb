{
 "cells": [
  {
   "cell_type": "code",
   "execution_count": null,
   "metadata": {},
   "outputs": [],
   "source": [
    "from sklearn.datasets import load_iris\n",
    "import matplotlib.pyplot as plt\n",
    "import pandas as pd\n",
    "import numpy as np"
   ]
  },
  {
   "cell_type": "code",
   "execution_count": null,
   "metadata": {},
   "outputs": [],
   "source": [
    "iris = load_iris()"
   ]
  },
  {
   "cell_type": "code",
   "execution_count": null,
   "metadata": {},
   "outputs": [],
   "source": [
    "X = iris.data"
   ]
  },
  {
   "cell_type": "code",
   "execution_count": null,
   "metadata": {},
   "outputs": [],
   "source": [
    "df = pd.DataFrame(X, columns=iris.feature_names)\n",
    "df[\"target\"] = iris.target\n",
    "df = df[df.target <= 1]\n",
    "df = df[[\"sepal length (cm)\", \"petal length (cm)\", \"target\"]]\n",
    "df[\"dummy\"] = np.ones(df.shape[0])\n",
    "df = df[[\"dummy\", \"sepal length (cm)\", \"petal length (cm)\", \"target\"]]"
   ]
  },
  {
   "cell_type": "code",
   "execution_count": null,
   "metadata": {},
   "outputs": [],
   "source": [
    "plt.scatter(df['sepal length (cm)'], df['petal length (cm)'], c=df[\"target\"])"
   ]
  },
  {
   "cell_type": "code",
   "execution_count": null,
   "metadata": {},
   "outputs": [],
   "source": [
    "%%latex\n",
    "\\[   \n",
    "y = \n",
    "     \\begin{cases}\n",
    "       1 &\\quad\\text{if }\\vec{w}\\cdot\\vec{x}\\geq 0\\\\\n",
    "       0 &\\quad\\text{otherwise} \\\\\n",
    "     \\end{cases}\n",
    "\\]"
   ]
  },
  {
   "cell_type": "markdown",
   "metadata": {},
   "source": [
    "# Perceptron learning rule"
   ]
  },
  {
   "cell_type": "markdown",
   "metadata": {},
   "source": [
    "It turns out that the same update rule as for linear regression is guarenteed to converge (assuming the data are linearly seperable). The update rule is as follows for a single example (x,y):"
   ]
  },
  {
   "cell_type": "code",
   "execution_count": null,
   "metadata": {},
   "outputs": [],
   "source": [
    "def update_weights(w, actual, pred, x, alpha=0.01):\n",
    "    w_new = w + (alpha * (actual - pred)) * x\n",
    "    return w_new"
   ]
  },
  {
   "cell_type": "markdown",
   "metadata": {},
   "source": [
    "Make initial random guess at weights"
   ]
  },
  {
   "cell_type": "code",
   "execution_count": null,
   "metadata": {},
   "outputs": [],
   "source": [
    "w_ = np.ones(3)\n",
    "nrows = df.shape[0]"
   ]
  },
  {
   "cell_type": "code",
   "execution_count": null,
   "metadata": {},
   "outputs": [],
   "source": [
    "for i in range(0, 1000):\n",
    "    index = np.random.choice(nrows, 1, replace=True)\n",
    "    x_y_ = df.values[index][0]\n",
    "    y = x_y_[3]\n",
    "    x_ = x_y_[0:3]\n",
    "    \n",
    "    w_x_ = np.dot(w_, x_)\n",
    "    prediction = 1 if w_x_ >= 0 else 0\n",
    "    \n",
    "    if y == prediction:\n",
    "        continue\n",
    "    else:\n",
    "        w_ = update_weights(w=w_, actual=y, pred=prediction, x=x_)"
   ]
  },
  {
   "cell_type": "markdown",
   "metadata": {},
   "source": [
    "Final converged weights "
   ]
  },
  {
   "cell_type": "code",
   "execution_count": null,
   "metadata": {},
   "outputs": [],
   "source": [
    "w_"
   ]
  },
  {
   "cell_type": "code",
   "execution_count": null,
   "metadata": {},
   "outputs": [],
   "source": [
    "def convert_weights_into_xy(weights, x_s):\n",
    "    w_0 = weights[0]\n",
    "    w_1 = weights[1]\n",
    "    w_2 = weights[2]\n",
    "    return (w_0 + (w_1 * x_s))/-w_2"
   ]
  },
  {
   "cell_type": "code",
   "execution_count": null,
   "metadata": {},
   "outputs": [],
   "source": [
    "sepal = np.linspace(4,7,30)\n",
    "petal = convert_weights_into_xy(weights=w_, x_s=sepal)"
   ]
  },
  {
   "cell_type": "code",
   "execution_count": null,
   "metadata": {},
   "outputs": [],
   "source": [
    "plt.scatter(df['sepal length (cm)'], df['petal length (cm)'], c=df[\"target\"])\n",
    "plt.plot(sepal, petal)"
   ]
  }
 ],
 "metadata": {
  "language_info": {
   "name": "python",
   "pygments_lexer": "ipython3"
  }
 },
 "nbformat": 4,
 "nbformat_minor": 4
}
